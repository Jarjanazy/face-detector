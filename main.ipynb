{
 "metadata": {
  "language_info": {
   "codemirror_mode": {
    "name": "ipython",
    "version": 3
   },
   "file_extension": ".py",
   "mimetype": "text/x-python",
   "name": "python",
   "nbconvert_exporter": "python",
   "pygments_lexer": "ipython3",
   "version": "3.7.7-final"
  },
  "orig_nbformat": 2,
  "kernelspec": {
   "name": "Python 3.7.7 64-bit ('.venv')",
   "display_name": "Python 3.7.7 64-bit ('.venv')",
   "metadata": {
    "interpreter": {
     "hash": "89dc23726bfeb749d7e06647e7d9f201d3233aa954baabc8808e210b2026d8b8"
    }
   }
  }
 },
 "nbformat": 4,
 "nbformat_minor": 2,
 "cells": [
  {
   "cell_type": "code",
   "execution_count": 33,
   "metadata": {},
   "outputs": [],
   "source": [
    "from deepface import DeepFace  \n",
    "import cv2\n",
    "import matplotlib.pyplot as plt "
   ]
  },
  {
   "cell_type": "code",
   "execution_count": 34,
   "metadata": {},
   "outputs": [],
   "source": [
    "hazem_no_mask_path = \"hazem_no_mask.jpg\"\n",
    "hazem_wt_mask_path = \"hazem_wt_mask.jpg\"\n",
    "\n",
    "malih_wt_mask_path = \"malih_wt_mask.jpg\"\n",
    "malih_no_mask_path =\"malih_no_mask.jpg\""
   ]
  },
  {
   "cell_type": "code",
   "execution_count": 35,
   "metadata": {},
   "outputs": [],
   "source": [
    "hazem_no_mask = cv2.imread(hazem_no_mask_path)\n",
    "hazem_wt_mask = cv2.imread(hazem_wt_mask_path)\n",
    "\n",
    "malih_wt_mask= cv2.imread(malih_wt_mask_path)\n",
    "malih_no_mask = cv2.imread(malih_no_mask_path)"
   ]
  },
  {
   "cell_type": "code",
   "execution_count": 36,
   "metadata": {},
   "outputs": [],
   "source": [
    "# plt.imshow(hazem_no_mask[:, :, ::-1])\n",
    "# plt.show()\n",
    "# plt.imshow(hazem_wt_mask[:, :, ::-1])\n",
    "# plt.show()\n",
    "# plt.imshow(an_pict[:, :, ::-1])\n",
    "# plt.show()\n",
    "\n",
    "# plt.imshow(malih_no_mask[:, :, ::-1])\n",
    "# plt.show()\n",
    "# plt.imshow(malih_wt_mask[:, :, ::-1])\n",
    "# plt.show()"
   ]
  },
  {
   "cell_type": "code",
   "execution_count": 37,
   "metadata": {},
   "outputs": [
    {
     "output_type": "stream",
     "name": "stdout",
     "text": [
      "Using VGG-Face model backend and cosine distance.\n",
      "WARNING:tensorflow:6 out of the last 11 calls to <function Model.make_predict_function.<locals>.predict_function at 0x000002DBD697C3A8> triggered tf.function retracing. Tracing is expensive and the excessive number of tracings could be due to (1) creating @tf.function repeatedly in a loop, (2) passing tensors with different shapes, (3) passing Python objects instead of tensors. For (1), please define your @tf.function outside of the loop. For (2), @tf.function has experimental_relax_shapes=True option that relaxes argument shapes that can avoid unnecessary retracing. For (3), please refer to https://www.tensorflow.org/tutorials/customization/performance#python_or_tensor_args and https://www.tensorflow.org/api_docs/python/tf/function for  more details.\n"
     ]
    },
    {
     "output_type": "execute_result",
     "data": {
      "text/plain": [
       "{'verified': True,\n",
       " 'distance': 0.26447606086730957,\n",
       " 'max_threshold_to_verify': 0.4,\n",
       " 'model': 'VGG-Face',\n",
       " 'similarity_metric': 'cosine'}"
      ]
     },
     "metadata": {},
     "execution_count": 37
    }
   ],
   "source": [
    "DeepFace.verify(malih_wt_mask_path, malih_no_mask_path)"
   ]
  },
  {
   "cell_type": "code",
   "execution_count": 38,
   "metadata": {},
   "outputs": [
    {
     "output_type": "stream",
     "name": "stdout",
     "text": [
      "Using VGG-Face model backend and cosine distance.\n",
      "WARNING:tensorflow:6 out of the last 11 calls to <function Model.make_predict_function.<locals>.predict_function at 0x000002DBD6BDEE58> triggered tf.function retracing. Tracing is expensive and the excessive number of tracings could be due to (1) creating @tf.function repeatedly in a loop, (2) passing tensors with different shapes, (3) passing Python objects instead of tensors. For (1), please define your @tf.function outside of the loop. For (2), @tf.function has experimental_relax_shapes=True option that relaxes argument shapes that can avoid unnecessary retracing. For (3), please refer to https://www.tensorflow.org/tutorials/customization/performance#python_or_tensor_args and https://www.tensorflow.org/api_docs/python/tf/function for  more details.\n"
     ]
    },
    {
     "output_type": "execute_result",
     "data": {
      "text/plain": [
       "{'verified': True,\n",
       " 'distance': 0.2344112992286682,\n",
       " 'max_threshold_to_verify': 0.4,\n",
       " 'model': 'VGG-Face',\n",
       " 'similarity_metric': 'cosine'}"
      ]
     },
     "metadata": {},
     "execution_count": 38
    }
   ],
   "source": [
    "DeepFace.verify(hazem_wt_mask_path, hazem_no_mask_path)"
   ]
  },
  {
   "cell_type": "code",
   "execution_count": 39,
   "metadata": {},
   "outputs": [
    {
     "output_type": "stream",
     "name": "stdout",
     "text": [
      "Using VGG-Face model backend and cosine distance.\n",
      "WARNING:tensorflow:6 out of the last 11 calls to <function Model.make_predict_function.<locals>.predict_function at 0x000002DBD6BDE8B8> triggered tf.function retracing. Tracing is expensive and the excessive number of tracings could be due to (1) creating @tf.function repeatedly in a loop, (2) passing tensors with different shapes, (3) passing Python objects instead of tensors. For (1), please define your @tf.function outside of the loop. For (2), @tf.function has experimental_relax_shapes=True option that relaxes argument shapes that can avoid unnecessary retracing. For (3), please refer to https://www.tensorflow.org/tutorials/customization/performance#python_or_tensor_args and https://www.tensorflow.org/api_docs/python/tf/function for  more details.\n"
     ]
    },
    {
     "output_type": "execute_result",
     "data": {
      "text/plain": [
       "{'verified': False,\n",
       " 'distance': 0.4344162940979004,\n",
       " 'max_threshold_to_verify': 0.4,\n",
       " 'model': 'VGG-Face',\n",
       " 'similarity_metric': 'cosine'}"
      ]
     },
     "metadata": {},
     "execution_count": 39
    }
   ],
   "source": [
    "DeepFace.verify(malih_wt_mask_path, hazem_wt_mask_path)"
   ]
  },
  {
   "cell_type": "code",
   "execution_count": 40,
   "metadata": {},
   "outputs": [
    {
     "output_type": "stream",
     "name": "stdout",
     "text": [
      "Using VGG-Face model backend and cosine distance.\n",
      "WARNING:tensorflow:6 out of the last 11 calls to <function Model.make_predict_function.<locals>.predict_function at 0x000002DBCEB71F78> triggered tf.function retracing. Tracing is expensive and the excessive number of tracings could be due to (1) creating @tf.function repeatedly in a loop, (2) passing tensors with different shapes, (3) passing Python objects instead of tensors. For (1), please define your @tf.function outside of the loop. For (2), @tf.function has experimental_relax_shapes=True option that relaxes argument shapes that can avoid unnecessary retracing. For (3), please refer to https://www.tensorflow.org/tutorials/customization/performance#python_or_tensor_args and https://www.tensorflow.org/api_docs/python/tf/function for  more details.\n"
     ]
    },
    {
     "output_type": "execute_result",
     "data": {
      "text/plain": [
       "{'verified': False,\n",
       " 'distance': 0.42906200885772705,\n",
       " 'max_threshold_to_verify': 0.4,\n",
       " 'model': 'VGG-Face',\n",
       " 'similarity_metric': 'cosine'}"
      ]
     },
     "metadata": {},
     "execution_count": 40
    }
   ],
   "source": [
    "DeepFace.verify(malih_wt_mask_path, hazem_no_mask_path)"
   ]
  },
  {
   "cell_type": "code",
   "execution_count": 41,
   "metadata": {},
   "outputs": [
    {
     "output_type": "stream",
     "name": "stdout",
     "text": [
      "Using VGG-Face model backend and cosine distance.\n",
      "WARNING:tensorflow:6 out of the last 11 calls to <function Model.make_predict_function.<locals>.predict_function at 0x000002DBCE55BD38> triggered tf.function retracing. Tracing is expensive and the excessive number of tracings could be due to (1) creating @tf.function repeatedly in a loop, (2) passing tensors with different shapes, (3) passing Python objects instead of tensors. For (1), please define your @tf.function outside of the loop. For (2), @tf.function has experimental_relax_shapes=True option that relaxes argument shapes that can avoid unnecessary retracing. For (3), please refer to https://www.tensorflow.org/tutorials/customization/performance#python_or_tensor_args and https://www.tensorflow.org/api_docs/python/tf/function for  more details.\n"
     ]
    },
    {
     "output_type": "execute_result",
     "data": {
      "text/plain": [
       "{'verified': False,\n",
       " 'distance': 0.4713902473449707,\n",
       " 'max_threshold_to_verify': 0.4,\n",
       " 'model': 'VGG-Face',\n",
       " 'similarity_metric': 'cosine'}"
      ]
     },
     "metadata": {},
     "execution_count": 41
    }
   ],
   "source": [
    "DeepFace.verify(malih_no_mask_path, hazem_no_mask_path)"
   ]
  },
  {
   "cell_type": "code",
   "execution_count": null,
   "metadata": {},
   "outputs": [],
   "source": []
  }
 ]
}