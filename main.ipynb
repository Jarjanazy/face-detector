{
 "cells": [
  {
   "cell_type": "code",
   "execution_count": 33,
   "metadata": {
    "scrolled": false
   },
   "outputs": [],
   "source": [
    "from deepface import DeepFace  \n",
    "import cv2\n",
    "import matplotlib.pyplot as plt \n",
    "from os import listdir\n",
    "import warnings\n",
    "warnings.filterwarnings('ignore')"
   ]
  },
  {
   "cell_type": "code",
   "execution_count": 36,
   "metadata": {},
   "outputs": [],
   "source": [
    "def getPathOfMostSimiliarNonMaskPersonImage(pathOfMaskImage, nonMaskDirectoryPath):\n",
    "    matchingResult = {\n",
    "    \"distance\" : 1,\n",
    "    \"fileName\" : \"\"\n",
    "    }\n",
    "    pathsOfNonMaskImages = listdir(nonMaskDirectoryPath)\n",
    "    for nonMaskpath in pathsOfNonMaskImages:\n",
    "        nonMaskFullPath  = nonMaskDirectoryPath + nonMaskpath\n",
    "        currentImage = DeepFace.verify(pathOfMaskImage, nonMaskFullPath)\n",
    "        currentDistance = currentImage.get(\"distance\")\n",
    "        if ( currentDistance < matchingResult.get(\"distance\") ):\n",
    "            matchingResult[\"distance\"] = currentDistance\n",
    "            matchingResult[\"fileName\"] = nonMaskpath\n",
    "        \n",
    "    return matchingResult\n",
    "        "
   ]
  },
  {
   "cell_type": "code",
   "execution_count": 37,
   "metadata": {},
   "outputs": [
    {
     "name": "stdout",
     "output_type": "stream",
     "text": [
      "WARNING:tensorflow:5 out of the last 112 calls to <function Model.make_predict_function.<locals>.predict_function at 0x0000018BBBB42C10> triggered tf.function retracing. Tracing is expensive and the excessive number of tracings could be due to (1) creating @tf.function repeatedly in a loop, (2) passing tensors with different shapes, (3) passing Python objects instead of tensors. For (1), please define your @tf.function outside of the loop. For (2), @tf.function has experimental_relax_shapes=True option that relaxes argument shapes that can avoid unnecessary retracing. For (3), please refer to https://www.tensorflow.org/guide/function#controlling_retracing and https://www.tensorflow.org/api_docs/python/tf/function for  more details.\n",
      "WARNING:tensorflow:5 out of the last 115 calls to <function Model.make_predict_function.<locals>.predict_function at 0x0000018BBF8A8E50> triggered tf.function retracing. Tracing is expensive and the excessive number of tracings could be due to (1) creating @tf.function repeatedly in a loop, (2) passing tensors with different shapes, (3) passing Python objects instead of tensors. For (1), please define your @tf.function outside of the loop. For (2), @tf.function has experimental_relax_shapes=True option that relaxes argument shapes that can avoid unnecessary retracing. For (3), please refer to https://www.tensorflow.org/guide/function#controlling_retracing and https://www.tensorflow.org/api_docs/python/tf/function for  more details.\n"
     ]
    }
   ],
   "source": [
    "result = getPathOfMostSimiliarNonMaskPersonImage(\"withMask/malih.jpg\",\"withNoMask/\")"
   ]
  },
  {
   "cell_type": "code",
   "execution_count": 32,
   "metadata": {},
   "outputs": [
    {
     "data": {
      "text/plain": [
       "{'distance': 0.29488927125930786, 'fileName': 'malih.jpg'}"
      ]
     },
     "execution_count": 32,
     "metadata": {},
     "output_type": "execute_result"
    }
   ],
   "source": [
    "result"
   ]
  }
 ],
 "metadata": {
  "kernelspec": {
   "display_name": "Python 3",
   "language": "python",
   "name": "python3"
  },
  "language_info": {
   "codemirror_mode": {
    "name": "ipython",
    "version": 3
   },
   "file_extension": ".py",
   "mimetype": "text/x-python",
   "name": "python",
   "nbconvert_exporter": "python",
   "pygments_lexer": "ipython3",
   "version": "3.8.3"
  }
 },
 "nbformat": 4,
 "nbformat_minor": 2
}
